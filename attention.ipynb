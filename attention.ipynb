{
 "cells": [
  {
   "cell_type": "code",
   "execution_count": 1,
   "metadata": {},
   "outputs": [
    {
     "name": "stdout",
     "output_type": "stream",
     "text": [
      "WARNING:tensorflow:From /home/yqstar/anaconda3/envs/tf13_env/lib/python3.6/site-packages/tensorflow/python/framework/op_def_library.py:263: colocate_with (from tensorflow.python.framework.ops) is deprecated and will be removed in a future version.\n",
      "Instructions for updating:\n",
      "Colocations handled automatically by placer.\n",
      "[[  8.99884224   9.99884224  10.99884224  11.99884224]]\n"
     ]
    }
   ],
   "source": [
    "# coding=utf-8\n",
    "import tensorflow as tf\n",
    "import numpy as np\n",
    "\n",
    "\n",
    "def target_attention(Q, K, V):\n",
    "    \"\"\" target_attention implementation\n",
    "    :param Q:\n",
    "    :param K:\n",
    "    :param V:\n",
    "    :return: target_attention tensor\n",
    "    \"\"\"\n",
    "    k1, k2 = K.get_shape().as_list()[-1], Q.get_shape().as_list()[-1]\n",
    "    W = tf.get_variable(\"w\", shape=[k1, k2], initializer=tf.keras.initializers.he_normal())\n",
    "\n",
    "    K_transform = tf.tensordot(K, W, axes=1)\n",
    "    d_k = tf.cast((k1 + k2) / 2, dtype=tf.float32)\n",
    "    logit = tf.matmul(K_transform, tf.expand_dims(Q, axis=-1)) / tf.sqrt(d_k)\n",
    "    weight = tf.nn.softmax(tf.squeeze(logit, axis=-1), axis=-1)\n",
    "\n",
    "    attention = tf.matmul(tf.expand_dims(weight, axis=1), V)\n",
    "\n",
    "    return tf.squeeze(attention, axis=1)\n",
    "\n",
    "\n",
    "if __name__ == '__main__':\n",
    "\n",
    "    seq_len = 4\n",
    "    embedding_size = 4\n",
    "\n",
    "    seq_tensor = tf.placeholder(dtype=tf.float32, shape=(None, seq_len, embedding_size))  # 序列特征\n",
    "    target_tensor = tf.placeholder(dtype=tf.float32, shape=(None, embedding_size))  # target_item\n",
    "\n",
    "    t_attn = target_attention(target_tensor, seq_tensor, seq_tensor)\n",
    "\n",
    "    feed_dict = {\n",
    "        target_tensor: np.array([\n",
    "            [3.0, 4.0, 5.0, 6.0]\n",
    "        ]),\n",
    "        seq_tensor: np.array([[\n",
    "            [1.0, 2.0, 3.0, 4.0],\n",
    "            [5.0, 6.0, 7.0, 8.0],\n",
    "            [9.0, 10.0, 11.0, 12.0],\n",
    "            [5.0, 4.0, 3.0, 8.0]\n",
    "        ]])\n",
    "    }\n",
    "\n",
    "    with tf.Session() as sess:\n",
    "        sess.run(tf.global_variables_initializer())\n",
    "\n",
    "        t_attn_out = sess.run(t_attn, feed_dict=feed_dict)\n",
    "        print(t_attn_out)\n"
   ]
  },
  {
   "cell_type": "code",
   "execution_count": 2,
   "metadata": {},
   "outputs": [
    {
     "ename": "TypeError",
     "evalue": "forward() takes 2 positional arguments but 3 were given",
     "output_type": "error",
     "traceback": [
      "\u001b[0;31m---------------------------------------------------------------------------\u001b[0m",
      "\u001b[0;31mTypeError\u001b[0m                                 Traceback (most recent call last)",
      "\u001b[0;32m<ipython-input-2-c946384208f8>\u001b[0m in \u001b[0;36m<module>\u001b[0;34m\u001b[0m\n\u001b[1;32m     47\u001b[0m \u001b[0mtarget\u001b[0m \u001b[0;34m=\u001b[0m \u001b[0mtorch\u001b[0m\u001b[0;34m.\u001b[0m\u001b[0mrandn\u001b[0m\u001b[0;34m(\u001b[0m\u001b[0;36m10\u001b[0m\u001b[0;34m,\u001b[0m \u001b[0;36m50\u001b[0m\u001b[0;34m)\u001b[0m\u001b[0;34m\u001b[0m\u001b[0;34m\u001b[0m\u001b[0m\n\u001b[1;32m     48\u001b[0m \u001b[0mattn\u001b[0m \u001b[0;34m=\u001b[0m \u001b[0mTargetAttention\u001b[0m\u001b[0;34m(\u001b[0m\u001b[0mnum_heads\u001b[0m\u001b[0;34m=\u001b[0m\u001b[0;36m2\u001b[0m\u001b[0;34m,\u001b[0m \u001b[0md_model\u001b[0m\u001b[0;34m=\u001b[0m\u001b[0;36m50\u001b[0m\u001b[0;34m,\u001b[0m \u001b[0mdropout\u001b[0m\u001b[0;34m=\u001b[0m\u001b[0;36m0.3\u001b[0m\u001b[0;34m)\u001b[0m\u001b[0;34m\u001b[0m\u001b[0;34m\u001b[0m\u001b[0m\n\u001b[0;32m---> 49\u001b[0;31m \u001b[0moutput\u001b[0m \u001b[0;34m=\u001b[0m \u001b[0mattn\u001b[0m\u001b[0;34m(\u001b[0m\u001b[0mx\u001b[0m\u001b[0;34m,\u001b[0m \u001b[0mtarget\u001b[0m\u001b[0;34m)\u001b[0m\u001b[0;34m\u001b[0m\u001b[0;34m\u001b[0m\u001b[0m\n\u001b[0m\u001b[1;32m     50\u001b[0m \u001b[0mprint\u001b[0m\u001b[0;34m(\u001b[0m\u001b[0moutput\u001b[0m\u001b[0;34m)\u001b[0m\u001b[0;34m\u001b[0m\u001b[0;34m\u001b[0m\u001b[0m\n",
      "\u001b[0;32m~/anaconda3/envs/torch17_env/lib/python3.8/site-packages/torch/nn/modules/module.py\u001b[0m in \u001b[0;36m_call_impl\u001b[0;34m(self, *input, **kwargs)\u001b[0m\n\u001b[1;32m    725\u001b[0m             \u001b[0mresult\u001b[0m \u001b[0;34m=\u001b[0m \u001b[0mself\u001b[0m\u001b[0;34m.\u001b[0m\u001b[0m_slow_forward\u001b[0m\u001b[0;34m(\u001b[0m\u001b[0;34m*\u001b[0m\u001b[0minput\u001b[0m\u001b[0;34m,\u001b[0m \u001b[0;34m**\u001b[0m\u001b[0mkwargs\u001b[0m\u001b[0;34m)\u001b[0m\u001b[0;34m\u001b[0m\u001b[0;34m\u001b[0m\u001b[0m\n\u001b[1;32m    726\u001b[0m         \u001b[0;32melse\u001b[0m\u001b[0;34m:\u001b[0m\u001b[0;34m\u001b[0m\u001b[0;34m\u001b[0m\u001b[0m\n\u001b[0;32m--> 727\u001b[0;31m             \u001b[0mresult\u001b[0m \u001b[0;34m=\u001b[0m \u001b[0mself\u001b[0m\u001b[0;34m.\u001b[0m\u001b[0mforward\u001b[0m\u001b[0;34m(\u001b[0m\u001b[0;34m*\u001b[0m\u001b[0minput\u001b[0m\u001b[0;34m,\u001b[0m \u001b[0;34m**\u001b[0m\u001b[0mkwargs\u001b[0m\u001b[0;34m)\u001b[0m\u001b[0;34m\u001b[0m\u001b[0;34m\u001b[0m\u001b[0m\n\u001b[0m\u001b[1;32m    728\u001b[0m         for hook in itertools.chain(\n\u001b[1;32m    729\u001b[0m                 \u001b[0m_global_forward_hooks\u001b[0m\u001b[0;34m.\u001b[0m\u001b[0mvalues\u001b[0m\u001b[0;34m(\u001b[0m\u001b[0;34m)\u001b[0m\u001b[0;34m,\u001b[0m\u001b[0;34m\u001b[0m\u001b[0;34m\u001b[0m\u001b[0m\n",
      "\u001b[0;31mTypeError\u001b[0m: forward() takes 2 positional arguments but 3 were given"
     ]
    }
   ],
   "source": [
    "\n",
    "import torch\n",
    "import torch.nn as nn\n",
    "\n",
    "class TargetAttention(nn.Module):\n",
    "    def __init__(self, num_heads, d_model, dropout=0.1):\n",
    "        super(TargetAttention, self).__init__()\n",
    "        self.num_heads = num_heads\n",
    "        self.d_k = d_model // num_heads\n",
    "        self.dropout = nn.Dropout(p=dropout)\n",
    "        \n",
    "        # 定义一个线性层，用于将输入的序列映射到查询空间\n",
    "        self.query = nn.Linear(d_model, d_model)\n",
    "        \n",
    "        # 定义两个线性层，分别用于计算注意力权重和输出\n",
    "        self.key = nn.Linear(d_model, d_model)\n",
    "        self.value = nn.Linear(d_model, d_model)\n",
    "        \n",
    "        # 定义一个可训练的参数来控制注意力的缩放因子\n",
    "        self.scale = nn.Parameter(torch.Tensor([1.0]))\n",
    "        \n",
    "    def forward(self, x):\n",
    "        # 将输入x通过查询层映射到查询空间\n",
    "        query = self.query(x)\n",
    "        \n",
    "        # 将查询向量分成num_heads个部分，并计算它们的均值\n",
    "        query = query.view(query.size(0), query.size(1), self.num_heads, self.d_k).mean(dim=2)\n",
    "        \n",
    "        # 将查询向量与键向量进行点积，得到注意力权重矩阵\n",
    "        scores = torch.matmul(query, self.key(x).transpose(1,2)) / math.sqrt(self.d_k)\n",
    "        \n",
    "        # 对注意力权重进行缩放，以控制输出的大小\n",
    "        scores = scores * self.scale.repeat(scores.size(0), 1, 1).unsqueeze(1)\n",
    "        \n",
    "        # 利用softmax函数对注意力权重进行归一化处理\n",
    "        scores = scores / torch.max(scores, dim=-1, keepdim=True)[0].unsqueeze(2)\n",
    "        \n",
    "        # 将归一化后的注意力权重与值向量相乘，得到最终的输出\n",
    "        output = scores.matmul(self.value(x))\n",
    "        \n",
    "        # 对输出进行dropout操作，以防止过拟合\n",
    "        output = self.dropout(output)\n",
    "        \n",
    "        return output\n",
    "    \n",
    "# 测试代码\n",
    "x = torch.randn(10, 50)\n",
    "target = torch.randn(10, 50)\n",
    "attn = TargetAttention(num_heads=2, d_model=50, dropout=0.3)\n",
    "output = attn(x, target)\n",
    "print(output)"
   ]
  }
 ],
 "metadata": {
  "kernelspec": {
   "display_name": "tf13_env",
   "language": "python",
   "name": "python3"
  },
  "language_info": {
   "codemirror_mode": {
    "name": "ipython",
    "version": 3
   },
   "file_extension": ".py",
   "mimetype": "text/x-python",
   "name": "python",
   "nbconvert_exporter": "python",
   "pygments_lexer": "ipython3",
   "version": "3.8.3"
  },
  "orig_nbformat": 4
 },
 "nbformat": 4,
 "nbformat_minor": 2
}
