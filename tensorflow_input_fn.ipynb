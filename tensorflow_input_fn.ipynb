{
 "cells": [
  {
   "attachments": {},
   "cell_type": "markdown",
   "metadata": {},
   "source": [
    "# 简述\n",
    "\n",
    "参考：\n",
    "https://zhuanlan.zhihu.com/p/452972774\n",
    "https://www.jianshu.com/p/733501e64966\n",
    "https://blog.csdn.net/pearl8899/article/details/107936792"
   ]
  },
  {
   "cell_type": "code",
   "execution_count": 2,
   "metadata": {},
   "outputs": [
    {
     "data": {
      "text/plain": [
       "{'age': [38, 27, 24, 18],\n",
       " 'degree': [0, 1, 2, 3],\n",
       " 'gender': [0, 0, 0, 1],\n",
       " 'name': ['Abby', 'Bella', 'Cathy', 'Dell'],\n",
       " 'pet': [['dog', 'starfish'],\n",
       "  ['cat', 'fish'],\n",
       "  ['tiger', 'cat'],\n",
       "  ['dog', 'cat']],\n",
       " 'province': ['安徽省', '上海市', '北京市', '新疆维吾尔自治区'],\n",
       " 'salary': [1000.8, 900.7, 1200, 400]}"
      ]
     },
     "execution_count": 2,
     "metadata": {},
     "output_type": "execute_result"
    }
   ],
   "source": [
    "person_data = {\"name\": [\"Abby\",\"Bella\",\"Cathy\",\"Dell\"],\n",
    "               \"gender\":[0,0,0,1],\n",
    "               \"degree\":[0,1,2,3],\n",
    "               \"age\":[38,27,24,18],\n",
    "               \"salary\":[1000.8,900.7,1200,400],\n",
    "               \"pet\":[[\"dog\",\"starfish\"],[\"cat\",\"fish\"],[\"tiger\",\"cat\"],[\"dog\",\"cat\"]],\n",
    "               \"province\":[\"安徽省\",\"上海市\",\"北京市\",\"新疆维吾尔自治区\"]\n",
    "               }\n",
    "\n",
    "province_list = ['北京市','上海市','天津市','重庆市','河北省','山西省','内蒙古自治区','辽宁省','吉林省','黑龙江省',\n",
    " '江苏省','浙江省','安徽省','福建省','江西省','山东省','河南省','湖北省','湖南省','广东省','广西壮族自治区','海南省',\n",
    " '四川省','贵州省','云南省','西藏自治区','陕西省','甘肃省','青海省','宁夏回族自治区','新疆维吾尔自治区','台湾省','香港特别行政区', '澳门特别行政区']\n",
    "\n",
    "person_data"
   ]
  },
  {
   "attachments": {},
   "cell_type": "markdown",
   "metadata": {},
   "source": [
    "针对person_data数据，"
   ]
  },
  {
   "cell_type": "code",
   "execution_count": 54,
   "metadata": {},
   "outputs": [
    {
     "name": "stdout",
     "output_type": "stream",
     "text": [
      "[[ 0.          0.          1.          0.09848841  0.15381086 -0.23387277\n",
      "  -0.61514837 -0.20832168 -0.08198683 -0.3471508  -0.46080923  1.\n",
      "   0.          0.18147144  0.34135872 -0.03115987 -0.21193358  0.42701536\n",
      "  -0.57190907  0.12232681  0.10418347 -0.17313461  0.24740234  0.\n",
      "   0.          1.          0.          1.          0.          0.\n",
      "   0.          0.          0.          0.          0.          0.\n",
      "   0.          0.          0.          0.          1.          0.\n",
      "   0.          0.          0.          0.          0.          0.\n",
      "   0.          0.          0.          0.          0.          0.\n",
      "   0.          0.          0.          0.          0.          0.\n",
      "   0.          0.          0.          2.008     ]\n",
      " [ 0.          1.          0.         -0.13640153 -0.3423585  -0.41799852\n",
      "  -0.00921592 -0.00841665  0.07088871 -0.16311663  0.08244163  1.\n",
      "   0.          0.1758039   0.02773052 -0.17290676  0.05382605  0.07488564\n",
      "  -0.08381433  0.05588934  0.60138625 -0.12724176 -0.26900095  0.\n",
      "   1.          0.          1.          0.          0.          1.\n",
      "   0.          0.          0.          0.          0.          0.\n",
      "   0.          0.          0.          0.          0.          0.\n",
      "   0.          0.          0.          0.          0.          0.\n",
      "   0.          0.          0.          0.          0.          0.\n",
      "   0.          0.          0.          0.          0.          0.\n",
      "   0.          0.          0.          1.0070001 ]\n",
      " [ 0.          1.          0.         -0.19166254 -0.23299965 -0.43320683\n",
      "   0.3041857   0.47242358 -0.17404942  0.04604977 -0.5298357   1.\n",
      "   0.          0.1758039   0.02773052 -0.17290676  0.05382605  0.07488564\n",
      "  -0.08381433  0.05588934  0.60138625 -0.12724176 -0.26900095  1.\n",
      "   1.          0.          0.          0.          1.          0.\n",
      "   0.          0.          0.          0.          0.          0.\n",
      "   0.          0.          0.          0.          0.          0.\n",
      "   0.          0.          0.          0.          0.          0.\n",
      "   0.          0.          0.          0.          0.          0.\n",
      "   0.          0.          0.          0.          0.          0.\n",
      "   0.          0.          0.          4.        ]\n",
      " [ 1.          0.          0.         -0.13640153 -0.3423585  -0.41799852\n",
      "  -0.00921592 -0.00841665  0.07088871 -0.16311663  0.08244163  0.\n",
      "   1.          0.14428802 -0.23222448  0.34128875  0.5523618   0.16472466\n",
      "  -0.5132738  -0.36584306 -0.04650033 -0.23963974  0.09737807  0.\n",
      "   1.          1.          0.          0.          0.          0.\n",
      "   0.          0.          0.          0.          0.          0.\n",
      "   0.          0.          0.          0.          0.          0.\n",
      "   0.          0.          0.          0.          0.          0.\n",
      "   0.          0.          0.          0.          0.          0.\n",
      "   0.          0.          0.          0.          1.          0.\n",
      "   0.          0.          0.         -4.        ]]\n"
     ]
    }
   ],
   "source": [
    "import os\n",
    "os.environ['TF_CPP_MIN_LOG_LEVEL'] = '2'\n",
    "\n",
    "import tensorflow as tf\n",
    "from tensorflow.python.ops import lookup_ops\n",
    "\n",
    "\n",
    "# 整数-> OneHot\n",
    "gender_column = tf.feature_column.indicator_column(\n",
    "tf.feature_column.categorical_column_with_identity(\"gender\",2))\n",
    "\n",
    "# Hash-> MultiHot\n",
    "pet_column = tf.feature_column.indicator_column(\n",
    "tf.feature_column.categorical_column_with_hash_bucket(\"pet\",5))\n",
    "\n",
    "# 词表-> OneHot\n",
    "province_column = tf.feature_column.indicator_column(\n",
    "tf.feature_column.categorical_column_with_vocabulary_list(\"province\",vocabulary_list=province_list,num_oov_buckets=1))\n",
    "\n",
    "# Embedding\n",
    "name_column = tf.feature_column.embedding_column(\n",
    "tf.feature_column.categorical_column_with_hash_bucket(\"name\",10),10\n",
    ")\n",
    "\n",
    "# Dense特征\n",
    "salary_column = tf.feature_column.numeric_column(\"salary\",normalizer_fn=lambda x: (x - 800) / 100)\n",
    "\n",
    "# Dense特征\n",
    "age_column = tf.feature_column.bucketized_column(tf.feature_column.numeric_column(\"age\"),boundaries=[20, 30])\n",
    "\n",
    "# Cross特征\n",
    "age_degree_column = tf.feature_column.embedding_column(\n",
    "tf.feature_column.crossed_column([tf.feature_column.categorical_column_with_identity(\"gender\",2),tf.feature_column.categorical_column_with_identity(\"degree\",4)],hash_bucket_size=8),8\n",
    ")\n",
    "\n",
    "# 构建input_fn函数\n",
    "gender_input_fn = tf.feature_column.input_layer(person_data, gender_column)\n",
    "pet_input_fn = tf.feature_column.input_layer(person_data, pet_column)\n",
    "name_input_fn = tf.feature_column.input_layer(person_data, name_column)\n",
    "province_input_fn = tf.feature_column.input_layer(person_data, province_column)\n",
    "salary_input_fn = tf.feature_column.input_layer(person_data, salary_column)\n",
    "age_input_fn = tf.feature_column.input_layer(person_data, age_column)\n",
    "age_degree_input_fn =  tf.feature_column.input_layer(person_data, age_degree_column)\n",
    "\n",
    "# 完整input_fn函数\n",
    "all_input_fn = tf.feature_column.input_layer(person_data, [gender_column,pet_column,name_column,province_column,salary_column,age_column,age_degree_column])\n",
    "\n",
    "with tf.Session() as sess:\n",
    "    sess.run(tf.global_variables_initializer())\n",
    "    sess.run(lookup_ops.tables_initializer())\n",
    "    print(all_input_fn.eval())"
   ]
  }
 ],
 "metadata": {
  "kernelspec": {
   "display_name": "Python 3.8.3 ('tf13_env')",
   "language": "python",
   "name": "python3"
  },
  "language_info": {
   "codemirror_mode": {
    "name": "ipython",
    "version": 3
   },
   "file_extension": ".py",
   "mimetype": "text/x-python",
   "name": "python",
   "nbconvert_exporter": "python",
   "pygments_lexer": "ipython3",
   "version": "3.6.2"
  },
  "orig_nbformat": 4,
  "vscode": {
   "interpreter": {
    "hash": "dcfc5ac383e29a4d9e4b55ea7ba22cf581c6948bbd5183707ae4e9a2e91d8d92"
   }
  }
 },
 "nbformat": 4,
 "nbformat_minor": 2
}
